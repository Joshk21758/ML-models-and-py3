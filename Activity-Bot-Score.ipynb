{
 "cells": [
  {
   "cell_type": "code",
   "execution_count": 1,
   "id": "07a70795-a8da-4466-bcc3-6957ea16568e",
   "metadata": {},
   "outputs": [
    {
     "data": {
      "text/html": [
       "<div>\n",
       "<style scoped>\n",
       "    .dataframe tbody tr th:only-of-type {\n",
       "        vertical-align: middle;\n",
       "    }\n",
       "\n",
       "    .dataframe tbody tr th {\n",
       "        vertical-align: top;\n",
       "    }\n",
       "\n",
       "    .dataframe thead th {\n",
       "        text-align: right;\n",
       "    }\n",
       "</style>\n",
       "<table border=\"1\" class=\"dataframe\">\n",
       "  <thead>\n",
       "    <tr style=\"text-align: right;\">\n",
       "      <th></th>\n",
       "      <th>user_id</th>\n",
       "      <th>age</th>\n",
       "      <th>count</th>\n",
       "      <th>activity</th>\n",
       "      <th>bot_score_english</th>\n",
       "    </tr>\n",
       "  </thead>\n",
       "  <tbody>\n",
       "    <tr>\n",
       "      <th>0</th>\n",
       "      <td>13616</td>\n",
       "      <td>4256</td>\n",
       "      <td>23279</td>\n",
       "      <td>5.469690</td>\n",
       "      <td>0.020441</td>\n",
       "    </tr>\n",
       "    <tr>\n",
       "      <th>1</th>\n",
       "      <td>614513</td>\n",
       "      <td>4124</td>\n",
       "      <td>525</td>\n",
       "      <td>0.127304</td>\n",
       "      <td>0.073133</td>\n",
       "    </tr>\n",
       "    <tr>\n",
       "      <th>2</th>\n",
       "      <td>5565</td>\n",
       "      <td>4313</td>\n",
       "      <td>8146</td>\n",
       "      <td>1.888709</td>\n",
       "      <td>0.041325</td>\n",
       "    </tr>\n",
       "    <tr>\n",
       "      <th>3</th>\n",
       "      <td>19783</td>\n",
       "      <td>4226</td>\n",
       "      <td>3510</td>\n",
       "      <td>0.830573</td>\n",
       "      <td>0.014311</td>\n",
       "    </tr>\n",
       "    <tr>\n",
       "      <th>4</th>\n",
       "      <td>2631</td>\n",
       "      <td>4351</td>\n",
       "      <td>8146</td>\n",
       "      <td>1.872213</td>\n",
       "      <td>0.058340</td>\n",
       "    </tr>\n",
       "    <tr>\n",
       "      <th>...</th>\n",
       "      <td>...</td>\n",
       "      <td>...</td>\n",
       "      <td>...</td>\n",
       "      <td>...</td>\n",
       "      <td>...</td>\n",
       "    </tr>\n",
       "    <tr>\n",
       "      <th>11185</th>\n",
       "      <td>4915142355</td>\n",
       "      <td>3077</td>\n",
       "      <td>20290</td>\n",
       "      <td>6.594085</td>\n",
       "      <td>0.530100</td>\n",
       "    </tr>\n",
       "    <tr>\n",
       "      <th>11186</th>\n",
       "      <td>4918929727</td>\n",
       "      <td>3077</td>\n",
       "      <td>26841</td>\n",
       "      <td>8.723107</td>\n",
       "      <td>0.010001</td>\n",
       "    </tr>\n",
       "    <tr>\n",
       "      <th>11187</th>\n",
       "      <td>4920512909</td>\n",
       "      <td>3077</td>\n",
       "      <td>44037</td>\n",
       "      <td>14.311667</td>\n",
       "      <td>0.025888</td>\n",
       "    </tr>\n",
       "    <tr>\n",
       "      <th>11188</th>\n",
       "      <td>4910272047</td>\n",
       "      <td>3077</td>\n",
       "      <td>5780</td>\n",
       "      <td>1.878453</td>\n",
       "      <td>0.058340</td>\n",
       "    </tr>\n",
       "    <tr>\n",
       "      <th>11189</th>\n",
       "      <td>4923560931</td>\n",
       "      <td>3077</td>\n",
       "      <td>24936</td>\n",
       "      <td>8.103997</td>\n",
       "      <td>0.091313</td>\n",
       "    </tr>\n",
       "  </tbody>\n",
       "</table>\n",
       "<p>11190 rows × 5 columns</p>\n",
       "</div>"
      ],
      "text/plain": [
       "          user_id   age  count   activity  bot_score_english\n",
       "0           13616  4256  23279   5.469690           0.020441\n",
       "1          614513  4124    525   0.127304           0.073133\n",
       "2            5565  4313   8146   1.888709           0.041325\n",
       "3           19783  4226   3510   0.830573           0.014311\n",
       "4            2631  4351   8146   1.872213           0.058340\n",
       "...           ...   ...    ...        ...                ...\n",
       "11185  4915142355  3077  20290   6.594085           0.530100\n",
       "11186  4918929727  3077  26841   8.723107           0.010001\n",
       "11187  4920512909  3077  44037  14.311667           0.025888\n",
       "11188  4910272047  3077   5780   1.878453           0.058340\n",
       "11189  4923560931  3077  24936   8.103997           0.091313\n",
       "\n",
       "[11190 rows x 5 columns]"
      ]
     },
     "execution_count": 1,
     "metadata": {},
     "output_type": "execute_result"
    }
   ],
   "source": [
    "import pandas as pd\n",
    "import numpy as np\n",
    "\n",
    "#Read file\n",
    "bot_data = pd.read_csv('activity_botscore.csv')\n",
    "bot_data"
   ]
  },
  {
   "cell_type": "code",
   "execution_count": 5,
   "id": "1d95b2a5-800c-441a-b747-50f8118d7c55",
   "metadata": {},
   "outputs": [
    {
     "data": {
      "text/html": [
       "<div>\n",
       "<style scoped>\n",
       "    .dataframe tbody tr th:only-of-type {\n",
       "        vertical-align: middle;\n",
       "    }\n",
       "\n",
       "    .dataframe tbody tr th {\n",
       "        vertical-align: top;\n",
       "    }\n",
       "\n",
       "    .dataframe thead th {\n",
       "        text-align: right;\n",
       "    }\n",
       "</style>\n",
       "<table border=\"1\" class=\"dataframe\">\n",
       "  <thead>\n",
       "    <tr style=\"text-align: right;\">\n",
       "      <th></th>\n",
       "      <th>user_id</th>\n",
       "      <th>age</th>\n",
       "      <th>count</th>\n",
       "      <th>activity</th>\n",
       "      <th>bot_score_english</th>\n",
       "    </tr>\n",
       "  </thead>\n",
       "  <tbody>\n",
       "    <tr>\n",
       "      <th>0</th>\n",
       "      <td>13616</td>\n",
       "      <td>4256</td>\n",
       "      <td>23279</td>\n",
       "      <td>5.469690</td>\n",
       "      <td>0.020441</td>\n",
       "    </tr>\n",
       "    <tr>\n",
       "      <th>1</th>\n",
       "      <td>614513</td>\n",
       "      <td>4124</td>\n",
       "      <td>525</td>\n",
       "      <td>0.127304</td>\n",
       "      <td>0.073133</td>\n",
       "    </tr>\n",
       "    <tr>\n",
       "      <th>2</th>\n",
       "      <td>5565</td>\n",
       "      <td>4313</td>\n",
       "      <td>8146</td>\n",
       "      <td>1.888709</td>\n",
       "      <td>0.041325</td>\n",
       "    </tr>\n",
       "    <tr>\n",
       "      <th>3</th>\n",
       "      <td>19783</td>\n",
       "      <td>4226</td>\n",
       "      <td>3510</td>\n",
       "      <td>0.830573</td>\n",
       "      <td>0.014311</td>\n",
       "    </tr>\n",
       "    <tr>\n",
       "      <th>4</th>\n",
       "      <td>2631</td>\n",
       "      <td>4351</td>\n",
       "      <td>8146</td>\n",
       "      <td>1.872213</td>\n",
       "      <td>0.058340</td>\n",
       "    </tr>\n",
       "  </tbody>\n",
       "</table>\n",
       "</div>"
      ],
      "text/plain": [
       "   user_id   age  count  activity  bot_score_english\n",
       "0    13616  4256  23279  5.469690           0.020441\n",
       "1   614513  4124    525  0.127304           0.073133\n",
       "2     5565  4313   8146  1.888709           0.041325\n",
       "3    19783  4226   3510  0.830573           0.014311\n",
       "4     2631  4351   8146  1.872213           0.058340"
      ]
     },
     "execution_count": 5,
     "metadata": {},
     "output_type": "execute_result"
    }
   ],
   "source": [
    "bot_data.head()"
   ]
  },
  {
   "cell_type": "code",
   "execution_count": 6,
   "id": "e105f43a-9581-4729-9739-3ba3de021fbd",
   "metadata": {},
   "outputs": [
    {
     "data": {
      "text/html": [
       "<div>\n",
       "<style scoped>\n",
       "    .dataframe tbody tr th:only-of-type {\n",
       "        vertical-align: middle;\n",
       "    }\n",
       "\n",
       "    .dataframe tbody tr th {\n",
       "        vertical-align: top;\n",
       "    }\n",
       "\n",
       "    .dataframe thead th {\n",
       "        text-align: right;\n",
       "    }\n",
       "</style>\n",
       "<table border=\"1\" class=\"dataframe\">\n",
       "  <thead>\n",
       "    <tr style=\"text-align: right;\">\n",
       "      <th></th>\n",
       "      <th>user_id</th>\n",
       "      <th>age</th>\n",
       "      <th>count</th>\n",
       "      <th>bot_score_english</th>\n",
       "    </tr>\n",
       "  </thead>\n",
       "  <tbody>\n",
       "    <tr>\n",
       "      <th>0</th>\n",
       "      <td>13616</td>\n",
       "      <td>4256</td>\n",
       "      <td>23279</td>\n",
       "      <td>0.020441</td>\n",
       "    </tr>\n",
       "    <tr>\n",
       "      <th>1</th>\n",
       "      <td>614513</td>\n",
       "      <td>4124</td>\n",
       "      <td>525</td>\n",
       "      <td>0.073133</td>\n",
       "    </tr>\n",
       "    <tr>\n",
       "      <th>2</th>\n",
       "      <td>5565</td>\n",
       "      <td>4313</td>\n",
       "      <td>8146</td>\n",
       "      <td>0.041325</td>\n",
       "    </tr>\n",
       "    <tr>\n",
       "      <th>3</th>\n",
       "      <td>19783</td>\n",
       "      <td>4226</td>\n",
       "      <td>3510</td>\n",
       "      <td>0.014311</td>\n",
       "    </tr>\n",
       "    <tr>\n",
       "      <th>4</th>\n",
       "      <td>2631</td>\n",
       "      <td>4351</td>\n",
       "      <td>8146</td>\n",
       "      <td>0.058340</td>\n",
       "    </tr>\n",
       "    <tr>\n",
       "      <th>...</th>\n",
       "      <td>...</td>\n",
       "      <td>...</td>\n",
       "      <td>...</td>\n",
       "      <td>...</td>\n",
       "    </tr>\n",
       "    <tr>\n",
       "      <th>11185</th>\n",
       "      <td>4915142355</td>\n",
       "      <td>3077</td>\n",
       "      <td>20290</td>\n",
       "      <td>0.530100</td>\n",
       "    </tr>\n",
       "    <tr>\n",
       "      <th>11186</th>\n",
       "      <td>4918929727</td>\n",
       "      <td>3077</td>\n",
       "      <td>26841</td>\n",
       "      <td>0.010001</td>\n",
       "    </tr>\n",
       "    <tr>\n",
       "      <th>11187</th>\n",
       "      <td>4920512909</td>\n",
       "      <td>3077</td>\n",
       "      <td>44037</td>\n",
       "      <td>0.025888</td>\n",
       "    </tr>\n",
       "    <tr>\n",
       "      <th>11188</th>\n",
       "      <td>4910272047</td>\n",
       "      <td>3077</td>\n",
       "      <td>5780</td>\n",
       "      <td>0.058340</td>\n",
       "    </tr>\n",
       "    <tr>\n",
       "      <th>11189</th>\n",
       "      <td>4923560931</td>\n",
       "      <td>3077</td>\n",
       "      <td>24936</td>\n",
       "      <td>0.091313</td>\n",
       "    </tr>\n",
       "  </tbody>\n",
       "</table>\n",
       "<p>11190 rows × 4 columns</p>\n",
       "</div>"
      ],
      "text/plain": [
       "          user_id   age  count  bot_score_english\n",
       "0           13616  4256  23279           0.020441\n",
       "1          614513  4124    525           0.073133\n",
       "2            5565  4313   8146           0.041325\n",
       "3           19783  4226   3510           0.014311\n",
       "4            2631  4351   8146           0.058340\n",
       "...           ...   ...    ...                ...\n",
       "11185  4915142355  3077  20290           0.530100\n",
       "11186  4918929727  3077  26841           0.010001\n",
       "11187  4920512909  3077  44037           0.025888\n",
       "11188  4910272047  3077   5780           0.058340\n",
       "11189  4923560931  3077  24936           0.091313\n",
       "\n",
       "[11190 rows x 4 columns]"
      ]
     },
     "execution_count": 6,
     "metadata": {},
     "output_type": "execute_result"
    }
   ],
   "source": [
    "#Input & output data\n",
    "X = bot_data.drop(columns=['activity'])\n",
    "X"
   ]
  },
  {
   "cell_type": "code",
   "execution_count": 7,
   "id": "fe0bd514-2675-4cc1-9d41-e25b5cb25aab",
   "metadata": {},
   "outputs": [
    {
     "data": {
      "text/plain": [
       "0         5.469690\n",
       "1         0.127304\n",
       "2         1.888709\n",
       "3         0.830573\n",
       "4         1.872213\n",
       "           ...    \n",
       "11185     6.594085\n",
       "11186     8.723107\n",
       "11187    14.311667\n",
       "11188     1.878453\n",
       "11189     8.103997\n",
       "Name: activity, Length: 11190, dtype: float64"
      ]
     },
     "execution_count": 7,
     "metadata": {},
     "output_type": "execute_result"
    }
   ],
   "source": [
    "y = bot_data['activity']\n",
    "y"
   ]
  },
  {
   "cell_type": "code",
   "execution_count": 8,
   "id": "1229837a-c7eb-4dea-9646-45b6fae4bc69",
   "metadata": {},
   "outputs": [
    {
     "data": {
      "text/plain": [
       "((2238, 4), (2238,))"
      ]
     },
     "execution_count": 8,
     "metadata": {},
     "output_type": "execute_result"
    }
   ],
   "source": [
    "from sklearn.model_selection import train_test_split\n",
    "#Train test data\n",
    "X_train, X_test, y_train, y_test = train_test_split(X, y, test_size=0.2, random_state=10)\n",
    "X_train.shape, y_train.shape\n",
    "X_test.shape, y_test.shape"
   ]
  },
  {
   "cell_type": "code",
   "execution_count": 9,
   "id": "74a50246-25d7-44ad-90d1-d1fe3855ae62",
   "metadata": {},
   "outputs": [
    {
     "data": {
      "text/plain": [
       "array([16.06525773, 11.78853659,  4.29107323, ...,  4.07580763,\n",
       "        1.41509593,  2.0781392 ])"
      ]
     },
     "execution_count": 9,
     "metadata": {},
     "output_type": "execute_result"
    }
   ],
   "source": [
    "from sklearn.linear_model import LinearRegression\n",
    "#Build, fit & evaluate model\n",
    "model = LinearRegression()\n",
    "model.fit(X_train, y_train)\n",
    "\n",
    "predictions = model.predict(X_test)\n",
    "predictions"
   ]
  },
  {
   "cell_type": "code",
   "execution_count": 11,
   "id": "b9941f92-eb82-4e03-9e00-3d145431b573",
   "metadata": {},
   "outputs": [
    {
     "name": "stdout",
     "output_type": "stream",
     "text": [
      "Mean Squared Error:  11.407692247471992\n",
      "Mean Absolute Error:  1.3644377044605611\n",
      "Intercept:  16.16106023638988\n"
     ]
    }
   ],
   "source": [
    "from sklearn.metrics import mean_squared_error, mean_absolute_error\n",
    "mse = mean_squared_error(y_test, predictions)\n",
    "mae = mean_absolute_error(y_test, predictions)\n",
    "intercept = model.intercept_\n",
    "print(\"Mean Squared Error: \", mse)\n",
    "print(\"Mean Absolute Error: \", mae)\n",
    "print(\"Intercept: \", intercept)"
   ]
  },
  {
   "cell_type": "code",
   "execution_count": 12,
   "id": "ca958a7e-02e6-4179-bd95-0f9a63f7d487",
   "metadata": {},
   "outputs": [
    {
     "data": {
      "image/png": "[encoded data removed]",
      "text/plain": [
       "<Figure size 640x480 with 1 Axes>"
      ]
     },
     "metadata": {},
     "output_type": "display_data"
    }
   ],
   "source": [
    "import matplotlib.pyplot as plt\n",
    "#Visualize results\n",
    "plt.scatter(y_test, predictions, alpha=0.5)\n",
    "plt.plot([y.min(), y.max()], [y.min(), y.max()], color='red')\n",
    "plt.xlabel('Actual values')\n",
    "plt.ylabel('Predicted values')\n",
    "plt.title('Linear Regression Botscore')\n",
    "plt.show()"
   ]
  },
  {
   "cell_type": "code",
   "execution_count": 13,
   "id": "8ceb2d97-cea4-4536-9961-72fa4e4c9408",
   "metadata": {},
   "outputs": [
    {
     "data": {
      "image/png": "[encoded data removed]",
      "text/plain": [
       "<Figure size 640x480 with 1 Axes>"
      ]
     },
     "metadata": {},
     "output_type": "display_data"
    }
   ],
   "source": [
    "#Visualise Residual(Loss)\n",
    "plt.scatter(predictions, y_test - predictions, alpha=0.5)\n",
    "plt.xlabel('Actual values')\n",
    "plt.ylabel('Predicted values')\n",
    "plt.title('Residual')\n",
    "plt.show()"
   ]
  }
 ],
 "metadata": {
  "kernelspec": {
   "display_name": "Python 3 (ipykernel)",
   "language": "python",
   "name": "python3"
  },
  "language_info": {
   "codemirror_mode": {
    "name": "ipython",
    "version": 3
   },
   "file_extension": ".py",
   "mimetype": "text/x-python",
   "name": "python",
   "nbconvert_exporter": "python",
   "pygments_lexer": "ipython3",
   "version": "3.11.7"
  }
 },
 "nbformat": 4,
 "nbformat_minor": 5
}
